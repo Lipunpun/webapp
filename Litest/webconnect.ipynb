{
 "cells": [
  {
   "cell_type": "code",
   "execution_count": 5,
   "metadata": {},
   "outputs": [
    {
     "ename": "FileNotFoundError",
     "evalue": "[Errno 2] No such file or directory: '../hubconf.py'",
     "output_type": "error",
     "traceback": [
      "\u001b[1;31m---------------------------------------------------------------------------\u001b[0m",
      "\u001b[1;31mFileNotFoundError\u001b[0m                         Traceback (most recent call last)",
      "Cell \u001b[1;32mIn[5], line 3\u001b[0m\n\u001b[0;32m      1\u001b[0m \u001b[38;5;28;01mimport\u001b[39;00m \u001b[38;5;21;01mtorch\u001b[39;00m\n\u001b[1;32m----> 3\u001b[0m model \u001b[38;5;241m=\u001b[39m \u001b[43mtorch\u001b[49m\u001b[38;5;241;43m.\u001b[39;49m\u001b[43mhub\u001b[49m\u001b[38;5;241;43m.\u001b[39;49m\u001b[43mload\u001b[49m\u001b[43m(\u001b[49m\u001b[38;5;124;43m\"\u001b[39;49m\u001b[38;5;124;43m../\u001b[39;49m\u001b[38;5;124;43m\"\u001b[39;49m\u001b[43m,\u001b[49m\u001b[38;5;124;43m\"\u001b[39;49m\u001b[38;5;124;43myolov5s\u001b[39;49m\u001b[38;5;124;43m\"\u001b[39;49m\u001b[43m,\u001b[49m\u001b[43msource\u001b[49m\u001b[43m \u001b[49m\u001b[38;5;241;43m=\u001b[39;49m\u001b[43m \u001b[49m\u001b[38;5;124;43m\"\u001b[39;49m\u001b[38;5;124;43mlocal\u001b[39;49m\u001b[38;5;124;43m\"\u001b[39;49m\u001b[43m)\u001b[49m\n\u001b[0;32m      5\u001b[0m img \u001b[38;5;241m=\u001b[39m \u001b[38;5;124m\"\u001b[39m\u001b[38;5;124m../data/images/1.png\u001b[39m\u001b[38;5;124m\"\u001b[39m\n\u001b[0;32m      7\u001b[0m results \u001b[38;5;241m=\u001b[39m model(img)\n",
      "File \u001b[1;32mc:\\Users\\user\\anaconda3\\envs\\YoloV5\\lib\\site-packages\\torch\\hub.py:540\u001b[0m, in \u001b[0;36mload\u001b[1;34m(repo_or_dir, model, source, trust_repo, force_reload, verbose, skip_validation, *args, **kwargs)\u001b[0m\n\u001b[0;32m    536\u001b[0m \u001b[38;5;28;01mif\u001b[39;00m source \u001b[38;5;241m==\u001b[39m \u001b[38;5;124m'\u001b[39m\u001b[38;5;124mgithub\u001b[39m\u001b[38;5;124m'\u001b[39m:\n\u001b[0;32m    537\u001b[0m     repo_or_dir \u001b[38;5;241m=\u001b[39m _get_cache_or_reload(repo_or_dir, force_reload, trust_repo, \u001b[38;5;124m\"\u001b[39m\u001b[38;5;124mload\u001b[39m\u001b[38;5;124m\"\u001b[39m,\n\u001b[0;32m    538\u001b[0m                                        verbose\u001b[38;5;241m=\u001b[39mverbose, skip_validation\u001b[38;5;241m=\u001b[39mskip_validation)\n\u001b[1;32m--> 540\u001b[0m model \u001b[38;5;241m=\u001b[39m _load_local(repo_or_dir, model, \u001b[38;5;241m*\u001b[39margs, \u001b[38;5;241m*\u001b[39m\u001b[38;5;241m*\u001b[39mkwargs)\n\u001b[0;32m    541\u001b[0m \u001b[38;5;28;01mreturn\u001b[39;00m model\n",
      "File \u001b[1;32mc:\\Users\\user\\anaconda3\\envs\\YoloV5\\lib\\site-packages\\torch\\hub.py:566\u001b[0m, in \u001b[0;36m_load_local\u001b[1;34m(hubconf_dir, model, *args, **kwargs)\u001b[0m\n\u001b[0;32m    563\u001b[0m sys\u001b[38;5;241m.\u001b[39mpath\u001b[38;5;241m.\u001b[39minsert(\u001b[38;5;241m0\u001b[39m, hubconf_dir)\n\u001b[0;32m    565\u001b[0m hubconf_path \u001b[38;5;241m=\u001b[39m os\u001b[38;5;241m.\u001b[39mpath\u001b[38;5;241m.\u001b[39mjoin(hubconf_dir, MODULE_HUBCONF)\n\u001b[1;32m--> 566\u001b[0m hub_module \u001b[38;5;241m=\u001b[39m \u001b[43m_import_module\u001b[49m\u001b[43m(\u001b[49m\u001b[43mMODULE_HUBCONF\u001b[49m\u001b[43m,\u001b[49m\u001b[43m \u001b[49m\u001b[43mhubconf_path\u001b[49m\u001b[43m)\u001b[49m\n\u001b[0;32m    568\u001b[0m entry \u001b[38;5;241m=\u001b[39m _load_entry_from_hubconf(hub_module, model)\n\u001b[0;32m    569\u001b[0m model \u001b[38;5;241m=\u001b[39m entry(\u001b[38;5;241m*\u001b[39margs, \u001b[38;5;241m*\u001b[39m\u001b[38;5;241m*\u001b[39mkwargs)\n",
      "File \u001b[1;32mc:\\Users\\user\\anaconda3\\envs\\YoloV5\\lib\\site-packages\\torch\\hub.py:89\u001b[0m, in \u001b[0;36m_import_module\u001b[1;34m(name, path)\u001b[0m\n\u001b[0;32m     87\u001b[0m module \u001b[38;5;241m=\u001b[39m importlib\u001b[38;5;241m.\u001b[39mutil\u001b[38;5;241m.\u001b[39mmodule_from_spec(spec)\n\u001b[0;32m     88\u001b[0m \u001b[38;5;28;01massert\u001b[39;00m \u001b[38;5;28misinstance\u001b[39m(spec\u001b[38;5;241m.\u001b[39mloader, Loader)\n\u001b[1;32m---> 89\u001b[0m \u001b[43mspec\u001b[49m\u001b[38;5;241;43m.\u001b[39;49m\u001b[43mloader\u001b[49m\u001b[38;5;241;43m.\u001b[39;49m\u001b[43mexec_module\u001b[49m\u001b[43m(\u001b[49m\u001b[43mmodule\u001b[49m\u001b[43m)\u001b[49m\n\u001b[0;32m     90\u001b[0m \u001b[38;5;28;01mreturn\u001b[39;00m module\n",
      "File \u001b[1;32m<frozen importlib._bootstrap_external>:846\u001b[0m, in \u001b[0;36mexec_module\u001b[1;34m(self, module)\u001b[0m\n",
      "File \u001b[1;32m<frozen importlib._bootstrap_external>:982\u001b[0m, in \u001b[0;36mget_code\u001b[1;34m(self, fullname)\u001b[0m\n",
      "File \u001b[1;32m<frozen importlib._bootstrap_external>:1039\u001b[0m, in \u001b[0;36mget_data\u001b[1;34m(self, path)\u001b[0m\n",
      "\u001b[1;31mFileNotFoundError\u001b[0m: [Errno 2] No such file or directory: '../hubconf.py'"
     ]
    }
   ],
   "source": [
    "import torch\n",
    "\n",
    "model = torch.hub.load(\"../\",\"yolov5s\",source = \"local\")\n",
    "\n",
    "img = \"../data/images/1.png\"\n",
    "\n",
    "results = model(img)\n",
    "\n",
    "results.show()"
   ]
  },
  {
   "cell_type": "code",
   "execution_count": 7,
   "metadata": {},
   "outputs": [
    {
     "name": "stdout",
     "output_type": "stream",
     "text": [
      "執行成功！\n",
      "輸出： \n"
     ]
    }
   ],
   "source": [
    "import subprocess\n",
    "\n",
    "# 要執行的命令及參數\n",
    "command = [\"python\", \"detect.py\", \"--save-txt\"]\n",
    "\n",
    "# 使用 subprocess 模組執行命令\n",
    "process = subprocess.Popen(command, stdout=subprocess.PIPE, stderr=subprocess.PIPE)\n",
    "\n",
    "# 等待命令執行完成\n",
    "stdout, stderr = process.communicate()\n",
    "\n",
    "# 檢查執行結果\n",
    "if process.returncode == 0:\n",
    "    print(\"執行成功！\")\n",
    "    print(\"輸出：\", stdout.decode())\n",
    "else:\n",
    "    print(\"執行失敗！\")\n",
    "    print(\"錯誤信息：\", stderr.decode())\n",
    "\n"
   ]
  },
  {
   "cell_type": "code",
   "execution_count": 16,
   "metadata": {},
   "outputs": [
    {
     "name": "stdout",
     "output_type": "stream",
     "text": [
      "Ycenter座標接近的bounding box數量： 8\n",
      "Xcenter座標接近的bounding box數量： 8\n"
     ]
    }
   ],
   "source": [
    "# 開啟標註檔案\n",
    "with open('./test.txt', 'r') as f:\n",
    "    lines = f.readlines()\n",
    "\n",
    "# 設置接近的閾值\n",
    "threshold = 0.02\n",
    "\n",
    "# 初始化計數器\n",
    "x_count_close_boxes = 0\n",
    "y_count_close_boxes = 0\n",
    "\n",
    "# 讀取每一行標註\n",
    "for line in lines:\n",
    "    # 將每一行標註拆分為不同的數值\n",
    "    class_label, x_center, y_center, width, height = map(float, line.split())\n",
    "\n",
    "    # 計算中心座標接近的bounding box數量\n",
    "    for other_line in lines:\n",
    "        other_class_label, other_x_center, other_y_center, other_width, other_height = map(float, other_line.split())\n",
    "        if abs(y_center - other_y_center) <= threshold:\n",
    "            y_count_close_boxes += 1\n",
    "            break  # 避免重複計算\n",
    "        \n",
    "    for other_line in lines:\n",
    "        other_class_label, other_x_center, other_y_center, other_width, other_height = map(float, other_line.split())\n",
    "        if abs(x_center - other_x_center) <= threshold:\n",
    "            x_count_close_boxes += 1\n",
    "            break  # 避免重複計算\n",
    "\n",
    "print(\"Ycenter座標接近的bounding box數量：\", y_count_close_boxes)\n",
    "print(\"Xcenter座標接近的bounding box數量：\", x_count_close_boxes)"
   ]
  },
  {
   "cell_type": "code",
   "execution_count": 2,
   "metadata": {},
   "outputs": [
    {
     "name": "stdout",
     "output_type": "stream",
     "text": [
      "[0.193359, 0.205078, 0.21875, 0.230469, 0.564453, 0.605469, 0.669922, 0.693359]\n",
      "有 3 組 bounding box 的 x_center 座標接近。\n",
      "有 4 組 bounding box 的 y_center 座標接近。\n"
     ]
    }
   ],
   "source": [
    "# 讀取 YOLO 標註的 .txt 檔案\n",
    "with open(\"./test.txt\", \"r\") as file:\n",
    "    lines = file.readlines()\n",
    "\n",
    "# 儲存 bounding box 的 x,y_center 座標\n",
    "y_centers = []\n",
    "x_centers = []\n",
    "\n",
    "# 解析每一行標註\n",
    "for line in lines:\n",
    "    class_label, x_center, y_center, width, height = map(float, line.split())\n",
    "    x_centers.append(x_center)\n",
    "    y_centers.append(y_center)\n",
    "\n",
    "if class_label == 0:\n",
    "    \n",
    "    # 將 y_center 座標排序\n",
    "    y_centers.sort()\n",
    "    x_centers.sort()\n",
    "\n",
    "    print(x_centers)\n",
    "\n",
    "    # 初始化計數器\n",
    "    x_group_count = 0\n",
    "    y_group_count = 0\n",
    "\n",
    "    # 檢查 x_center 座標是否接近彼此的 bounding box\n",
    "    for i in range(len(x_centers) - 1):\n",
    "        if abs(x_centers[i] - x_centers[i + 1]) <= 0.02:\n",
    "            x_group_count += 1\n",
    "\n",
    "\n",
    "    # 檢查 y_center 座標是否接近彼此的 bounding box\n",
    "    for i in range(len(y_centers) - 1):\n",
    "        if abs(y_centers[i] - y_centers[i + 1]) <= 0.02:\n",
    "            y_group_count += 1\n",
    "\n",
    "    print(\"有\", x_group_count, \"組 bounding box 的 x_center 座標接近。\")\n",
    "    print(\"有\", y_group_count, \"組 bounding box 的 y_center 座標接近。\")"
   ]
  },
  {
   "cell_type": "code",
   "execution_count": null,
   "metadata": {},
   "outputs": [],
   "source": []
  }
 ],
 "metadata": {
  "kernelspec": {
   "display_name": "YoloV5",
   "language": "python",
   "name": "python3"
  },
  "language_info": {
   "codemirror_mode": {
    "name": "ipython",
    "version": 3
   },
   "file_extension": ".py",
   "mimetype": "text/x-python",
   "name": "python",
   "nbconvert_exporter": "python",
   "pygments_lexer": "ipython3",
   "version": "3.9.18"
  }
 },
 "nbformat": 4,
 "nbformat_minor": 2
}
